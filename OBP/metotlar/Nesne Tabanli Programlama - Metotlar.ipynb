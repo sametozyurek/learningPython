{
 "cells": [
  {
   "cell_type": "code",
   "execution_count": 9,
   "metadata": {},
   "outputs": [],
   "source": [
    "class Yazilimci():\n",
    "    def __init__(self,isim,soyisim,numara,maas,diller):\n",
    "        self.isim=isim\n",
    "        self.soyisim=soyisim\n",
    "        self.numara=numara\n",
    "        self.maas=maas\n",
    "        self.diller=diller\n",
    "        \n",
    "    def bilgileriGoster(self):\n",
    "        print(\"\"\"\n",
    "            Yazilimci Objesinin ozellikleri\n",
    "            \n",
    "                isim : {}\n",
    "                soyisim : {}\n",
    "                numara : {}\n",
    "                maas : {}\n",
    "                bildigi diller : {}\n",
    "        \n",
    "        \"\"\".format(self.isim,self.soyisim,self.numara,self.maas,self.diller))\n",
    "        \n",
    "    def zamYap(self,zam_miktari):\n",
    "        print(\"Zam Yapiliyor...\")\n",
    "        self.maas+=zam_miktari\n",
    "        \n",
    "    def dil_ekle(self,yeni_dil):\n",
    "        print(\"Dil ekleniyor...\")\n",
    "        self.diller+=\", \"+yeni_dil"
   ]
  },
  {
   "cell_type": "code",
   "execution_count": 10,
   "metadata": {},
   "outputs": [],
   "source": [
    "yazilimci=Yazilimci(\"Samet\",\"Ozyurek\",616,5500,\"Python, Java, C#\")"
   ]
  },
  {
   "cell_type": "code",
   "execution_count": 11,
   "metadata": {},
   "outputs": [
    {
     "name": "stdout",
     "output_type": "stream",
     "text": [
      "\n",
      "            Yazilimci Objesinin ozellikleri\n",
      "            \n",
      "                isim : Samet\n",
      "                soyisim : Ozyurek\n",
      "                numara : 616\n",
      "                maas : 5500\n",
      "                bildigi diller : Python, Java, C#\n",
      "        \n",
      "        \n"
     ]
    }
   ],
   "source": [
    "yazilimci.bilgileriGoster()"
   ]
  },
  {
   "cell_type": "code",
   "execution_count": 12,
   "metadata": {},
   "outputs": [
    {
     "name": "stdout",
     "output_type": "stream",
     "text": [
      "Dil ekleniyor...\n"
     ]
    }
   ],
   "source": [
    "yazilimci.dil_ekle(\"Kotlin\")"
   ]
  },
  {
   "cell_type": "code",
   "execution_count": 13,
   "metadata": {},
   "outputs": [
    {
     "name": "stdout",
     "output_type": "stream",
     "text": [
      "\n",
      "            Yazilimci Objesinin ozellikleri\n",
      "            \n",
      "                isim : Samet\n",
      "                soyisim : Ozyurek\n",
      "                numara : 616\n",
      "                maas : 5500\n",
      "                bildigi diller : Python, Java, C#, Kotlin\n",
      "        \n",
      "        \n"
     ]
    }
   ],
   "source": [
    "yazilimci.bilgileriGoster()"
   ]
  },
  {
   "cell_type": "code",
   "execution_count": 14,
   "metadata": {},
   "outputs": [
    {
     "name": "stdout",
     "output_type": "stream",
     "text": [
      "Dil ekleniyor...\n"
     ]
    }
   ],
   "source": [
    "yazilimci.dil_ekle(\"Ruby\")"
   ]
  },
  {
   "cell_type": "code",
   "execution_count": 15,
   "metadata": {},
   "outputs": [
    {
     "name": "stdout",
     "output_type": "stream",
     "text": [
      "\n",
      "            Yazilimci Objesinin ozellikleri\n",
      "            \n",
      "                isim : Samet\n",
      "                soyisim : Ozyurek\n",
      "                numara : 616\n",
      "                maas : 5500\n",
      "                bildigi diller : Python, Java, C#, Kotlin, Ruby\n",
      "        \n",
      "        \n"
     ]
    }
   ],
   "source": [
    "yazilimci.bilgileriGoster()"
   ]
  },
  {
   "cell_type": "code",
   "execution_count": 16,
   "metadata": {},
   "outputs": [
    {
     "name": "stdout",
     "output_type": "stream",
     "text": [
      "Zam Yapiliyor...\n"
     ]
    }
   ],
   "source": [
    "yazilimci.zamYap(550)"
   ]
  },
  {
   "cell_type": "code",
   "execution_count": 17,
   "metadata": {},
   "outputs": [
    {
     "name": "stdout",
     "output_type": "stream",
     "text": [
      "\n",
      "            Yazilimci Objesinin ozellikleri\n",
      "            \n",
      "                isim : Samet\n",
      "                soyisim : Ozyurek\n",
      "                numara : 616\n",
      "                maas : 6050\n",
      "                bildigi diller : Python, Java, C#, Kotlin, Ruby\n",
      "        \n",
      "        \n"
     ]
    }
   ],
   "source": [
    "yazilimci.bilgileriGoster()"
   ]
  },
  {
   "cell_type": "code",
   "execution_count": null,
   "metadata": {},
   "outputs": [],
   "source": []
  }
 ],
 "metadata": {
  "kernelspec": {
   "display_name": "Python 3",
   "language": "python",
   "name": "python3"
  },
  "language_info": {
   "codemirror_mode": {
    "name": "ipython",
    "version": 3
   },
   "file_extension": ".py",
   "mimetype": "text/x-python",
   "name": "python",
   "nbconvert_exporter": "python",
   "pygments_lexer": "ipython3",
   "version": "3.7.1"
  }
 },
 "nbformat": 4,
 "nbformat_minor": 2
}
