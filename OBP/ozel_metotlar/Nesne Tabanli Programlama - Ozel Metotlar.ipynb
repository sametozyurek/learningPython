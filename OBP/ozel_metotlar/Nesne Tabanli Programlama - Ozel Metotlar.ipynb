{
 "cells": [
  {
   "cell_type": "code",
   "execution_count": 1,
   "metadata": {},
   "outputs": [],
   "source": [
    "class Kitap():\n",
    "    pass"
   ]
  },
  {
   "cell_type": "code",
   "execution_count": 13,
   "metadata": {},
   "outputs": [],
   "source": [
    "kitap=Kitap() ##__init__ metodu"
   ]
  },
  {
   "cell_type": "code",
   "execution_count": 14,
   "metadata": {},
   "outputs": [
    {
     "name": "stdout",
     "output_type": "stream",
     "text": [
      "<__main__.Kitap object at 0x0000024E5783E198>\n"
     ]
    }
   ],
   "source": [
    "print(kitap) ##__str__ metodu"
   ]
  },
  {
   "cell_type": "code",
   "execution_count": 15,
   "metadata": {},
   "outputs": [
    {
     "ename": "TypeError",
     "evalue": "object of type 'Kitap' has no len()",
     "output_type": "error",
     "traceback": [
      "\u001b[1;31m---------------------------------------------------------------------------\u001b[0m",
      "\u001b[1;31mTypeError\u001b[0m                                 Traceback (most recent call last)",
      "\u001b[1;32m<ipython-input-15-b705a200e02c>\u001b[0m in \u001b[0;36m<module>\u001b[1;34m\u001b[0m\n\u001b[1;32m----> 1\u001b[1;33m \u001b[0mlen\u001b[0m\u001b[1;33m(\u001b[0m\u001b[0mkitap\u001b[0m\u001b[1;33m)\u001b[0m \u001b[1;31m##__len__ metodu\u001b[0m\u001b[1;33m\u001b[0m\u001b[1;33m\u001b[0m\u001b[0m\n\u001b[0m",
      "\u001b[1;31mTypeError\u001b[0m: object of type 'Kitap' has no len()"
     ]
    }
   ],
   "source": [
    "len(kitap) ##__len__ metodu"
   ]
  },
  {
   "cell_type": "code",
   "execution_count": 16,
   "metadata": {},
   "outputs": [],
   "source": [
    "del kitap ##__del__ metodu"
   ]
  },
  {
   "cell_type": "code",
   "execution_count": 17,
   "metadata": {},
   "outputs": [
    {
     "ename": "NameError",
     "evalue": "name 'kitap' is not defined",
     "output_type": "error",
     "traceback": [
      "\u001b[1;31m---------------------------------------------------------------------------\u001b[0m",
      "\u001b[1;31mNameError\u001b[0m                                 Traceback (most recent call last)",
      "\u001b[1;32m<ipython-input-17-1a7f1cf5fe3f>\u001b[0m in \u001b[0;36m<module>\u001b[1;34m\u001b[0m\n\u001b[1;32m----> 1\u001b[1;33m \u001b[0mkitap\u001b[0m\u001b[1;33m\u001b[0m\u001b[1;33m\u001b[0m\u001b[0m\n\u001b[0m",
      "\u001b[1;31mNameError\u001b[0m: name 'kitap' is not defined"
     ]
    }
   ],
   "source": [
    "kitap"
   ]
  },
  {
   "cell_type": "code",
   "execution_count": 22,
   "metadata": {},
   "outputs": [],
   "source": [
    "class Kitap():\n",
    "    def __init__(self,isim,yazar,tur,sayfa):\n",
    "        print(\"Kitap sinifi init fonksiyonu\")\n",
    "        self.isim=isim\n",
    "        self.yazar=yazar\n",
    "        self.tur=tur\n",
    "        self.sayfa=sayfa"
   ]
  },
  {
   "cell_type": "code",
   "execution_count": 23,
   "metadata": {},
   "outputs": [
    {
     "name": "stdout",
     "output_type": "stream",
     "text": [
      "Kitap sinifi init fonksiyonu\n"
     ]
    }
   ],
   "source": [
    "kitap=Kitap(\"Istanbul Hatirasi\",\"Ahmet Umit\",\"Polisiye\",561)"
   ]
  },
  {
   "cell_type": "code",
   "execution_count": 24,
   "metadata": {},
   "outputs": [],
   "source": [
    "class Kitap():\n",
    "    def __init__(self,isim,yazar,tur,sayfa):\n",
    "        print(\"Kitap sinifi init fonksiyonu\")\n",
    "        self.isim=isim\n",
    "        self.yazar=yazar\n",
    "        self.tur=tur\n",
    "        self.sayfa=sayfa\n",
    "        \n",
    "    def __str__(self):\n",
    "        return \"Isim : {}\\nYazar : {}\\nTur : {}\\nSayfa : {}.\".format(self.isim,self.yazar,self.tur,self.sayfa)"
   ]
  },
  {
   "cell_type": "code",
   "execution_count": 25,
   "metadata": {},
   "outputs": [
    {
     "name": "stdout",
     "output_type": "stream",
     "text": [
      "Kitap sinifi init fonksiyonu\n"
     ]
    }
   ],
   "source": [
    "kitap=Kitap(\"Istanbul Hatirasi\",\"Ahmet Umit\",\"Polisiye\",561)"
   ]
  },
  {
   "cell_type": "code",
   "execution_count": 26,
   "metadata": {},
   "outputs": [
    {
     "name": "stdout",
     "output_type": "stream",
     "text": [
      "Isim : Istanbul Hatirasi\n",
      "Yazar : Ahmet Umit\n",
      "Tur : Polisiye\n",
      "Sayfa : 561.\n"
     ]
    }
   ],
   "source": [
    "print(kitap)"
   ]
  },
  {
   "cell_type": "code",
   "execution_count": 27,
   "metadata": {},
   "outputs": [],
   "source": [
    "class Kitap():\n",
    "    def __init__(self,isim,yazar,tur,sayfa):\n",
    "        print(\"Kitap sinifi init fonksiyonu\")\n",
    "        self.isim=isim\n",
    "        self.yazar=yazar\n",
    "        self.tur=tur\n",
    "        self.sayfa=sayfa\n",
    "        \n",
    "    def __str__(self):\n",
    "        return \"Isim : {}\\nYazar : {}\\nTur : {}\\nSayfa : {}.\".format(self.isim,self.yazar,self.tur,self.sayfa)\n",
    "    \n",
    "    def __len__(self):\n",
    "        return self.sayfa"
   ]
  },
  {
   "cell_type": "code",
   "execution_count": 28,
   "metadata": {},
   "outputs": [
    {
     "name": "stdout",
     "output_type": "stream",
     "text": [
      "Kitap sinifi init fonksiyonu\n"
     ]
    }
   ],
   "source": [
    "kitap=Kitap(\"Istanbul Hatirasi\",\"Ahmet Umit\",\"Polisiye\",561)"
   ]
  },
  {
   "cell_type": "code",
   "execution_count": 29,
   "metadata": {},
   "outputs": [
    {
     "data": {
      "text/plain": [
       "561"
      ]
     },
     "execution_count": 29,
     "metadata": {},
     "output_type": "execute_result"
    }
   ],
   "source": [
    "len(kitap)"
   ]
  },
  {
   "cell_type": "code",
   "execution_count": 31,
   "metadata": {},
   "outputs": [],
   "source": [
    "class Kitap():\n",
    "    def __init__(self,isim,yazar,tur,sayfa):\n",
    "        print(\"Kitap sinifi init fonksiyonu\")\n",
    "        self.isim=isim\n",
    "        self.yazar=yazar\n",
    "        self.tur=tur\n",
    "        self.sayfa=sayfa\n",
    "        \n",
    "    def __str__(self):\n",
    "        return \"Isim : {}\\nYazar : {}\\nTur : {}\\nSayfa : {}.\".format(self.isim,self.yazar,self.tur,self.sayfa)\n",
    "    \n",
    "    def __len__(self):\n",
    "        return self.sayfa\n",
    "    \n",
    "    def __del__(self):\n",
    "        print(\"Kitap objesi siliniyor...\")"
   ]
  },
  {
   "cell_type": "code",
   "execution_count": 32,
   "metadata": {},
   "outputs": [
    {
     "name": "stdout",
     "output_type": "stream",
     "text": [
      "Kitap sinifi init fonksiyonu\n"
     ]
    }
   ],
   "source": [
    "kitap=Kitap(\"Istanbul Hatirasi\",\"Ahmet Umit\",\"Polisiye\",561)"
   ]
  },
  {
   "cell_type": "code",
   "execution_count": 33,
   "metadata": {},
   "outputs": [
    {
     "name": "stdout",
     "output_type": "stream",
     "text": [
      "Kitap objesi siliniyor...\n"
     ]
    }
   ],
   "source": [
    "del(kitap)"
   ]
  },
  {
   "cell_type": "code",
   "execution_count": null,
   "metadata": {},
   "outputs": [],
   "source": []
  }
 ],
 "metadata": {
  "kernelspec": {
   "display_name": "Python 3",
   "language": "python",
   "name": "python3"
  },
  "language_info": {
   "codemirror_mode": {
    "name": "ipython",
    "version": 3
   },
   "file_extension": ".py",
   "mimetype": "text/x-python",
   "name": "python",
   "nbconvert_exporter": "python",
   "pygments_lexer": "ipython3",
   "version": "3.7.1"
  }
 },
 "nbformat": 4,
 "nbformat_minor": 2
}
