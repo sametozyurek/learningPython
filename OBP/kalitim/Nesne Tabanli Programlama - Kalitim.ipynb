{
 "cells": [
  {
   "cell_type": "code",
   "execution_count": 1,
   "metadata": {},
   "outputs": [],
   "source": [
    "class Calisan():\n",
    "    def __init__(self,isim,soyisim,maas,departman):\n",
    "        print(\"Calisan sinifinin init fonksiyonu.\")\n",
    "        \n",
    "        self.isim=isim\n",
    "        self.soyisim=soyisim\n",
    "        self.maas=maas\n",
    "        self.departman=departman\n",
    "        \n",
    "    def bilgilerGoster(self):\n",
    "        print(\"\"\"\n",
    "        Calisana ait bilgiler : \n",
    "            Isim : {}\n",
    "            Soyisim : {}\n",
    "            Maas : {}\n",
    "            Departman : {}\n",
    "        \n",
    "        \"\"\".format(self.isim,self.soyisim,self.maas,self.departman))\n",
    "        \n",
    "    def departmanDegistir(self,yeniDepartman):\n",
    "        print(\"Departman degistirildi...\")\n",
    "        self.departman=yeniDepartman"
   ]
  },
  {
   "cell_type": "code",
   "execution_count": 2,
   "metadata": {},
   "outputs": [
    {
     "ename": "SyntaxError",
     "evalue": "unexpected EOF while parsing (<ipython-input-2-4e24a10685a4>, line 2)",
     "output_type": "error",
     "traceback": [
      "\u001b[1;36m  File \u001b[1;32m\"<ipython-input-2-4e24a10685a4>\"\u001b[1;36m, line \u001b[1;32m2\u001b[0m\n\u001b[1;33m    \u001b[0m\n\u001b[1;37m    ^\u001b[0m\n\u001b[1;31mSyntaxError\u001b[0m\u001b[1;31m:\u001b[0m unexpected EOF while parsing\n"
     ]
    }
   ],
   "source": [
    "class Yonetici(Calisan):\n",
    "    "
   ]
  },
  {
   "cell_type": "code",
   "execution_count": 3,
   "metadata": {},
   "outputs": [],
   "source": [
    "class Yonetici(Calisan):\n",
    "    pass #burada ki pass deyimi daha sonra oraya donulecegini belirtir bu sebeple herhangi bir hata alinmaz"
   ]
  },
  {
   "cell_type": "code",
   "execution_count": 4,
   "metadata": {},
   "outputs": [
    {
     "name": "stdout",
     "output_type": "stream",
     "text": [
      "Calisan sinifinin init fonksiyonu.\n"
     ]
    }
   ],
   "source": [
    "yonetici=Yonetici(\"Samet\",\"Ozyurek\",5500,\"Yazilim\")"
   ]
  },
  {
   "cell_type": "code",
   "execution_count": 5,
   "metadata": {},
   "outputs": [
    {
     "name": "stdout",
     "output_type": "stream",
     "text": [
      "\n",
      "        Calisana ait bilgiler : \n",
      "            Isim : Samet\n",
      "            Soyisim : Ozyurek\n",
      "            Maas : 5500\n",
      "            Departman : Yazilim\n",
      "        \n",
      "        \n"
     ]
    }
   ],
   "source": [
    "yonetici.bilgilerGoster()"
   ]
  },
  {
   "cell_type": "code",
   "execution_count": 6,
   "metadata": {},
   "outputs": [
    {
     "name": "stdout",
     "output_type": "stream",
     "text": [
      "Departman degistirildi...\n"
     ]
    }
   ],
   "source": [
    "yonetici.departmanDegistir(\"IKA\")"
   ]
  },
  {
   "cell_type": "code",
   "execution_count": 7,
   "metadata": {},
   "outputs": [
    {
     "name": "stdout",
     "output_type": "stream",
     "text": [
      "\n",
      "        Calisana ait bilgiler : \n",
      "            Isim : Samet\n",
      "            Soyisim : Ozyurek\n",
      "            Maas : 5500\n",
      "            Departman : IKA\n",
      "        \n",
      "        \n"
     ]
    }
   ],
   "source": [
    "yonetici.bilgilerGoster()"
   ]
  },
  {
   "cell_type": "code",
   "execution_count": 8,
   "metadata": {},
   "outputs": [
    {
     "data": {
      "text/plain": [
       "['__class__',\n",
       " '__delattr__',\n",
       " '__dict__',\n",
       " '__dir__',\n",
       " '__doc__',\n",
       " '__eq__',\n",
       " '__format__',\n",
       " '__ge__',\n",
       " '__getattribute__',\n",
       " '__gt__',\n",
       " '__hash__',\n",
       " '__init__',\n",
       " '__init_subclass__',\n",
       " '__le__',\n",
       " '__lt__',\n",
       " '__module__',\n",
       " '__ne__',\n",
       " '__new__',\n",
       " '__reduce__',\n",
       " '__reduce_ex__',\n",
       " '__repr__',\n",
       " '__setattr__',\n",
       " '__sizeof__',\n",
       " '__str__',\n",
       " '__subclasshook__',\n",
       " '__weakref__',\n",
       " 'bilgilerGoster',\n",
       " 'departman',\n",
       " 'departmanDegistir',\n",
       " 'isim',\n",
       " 'maas',\n",
       " 'soyisim']"
      ]
     },
     "execution_count": 8,
     "metadata": {},
     "output_type": "execute_result"
    }
   ],
   "source": [
    "dir(yonetici)"
   ]
  },
  {
   "cell_type": "code",
   "execution_count": 9,
   "metadata": {},
   "outputs": [],
   "source": [
    "class Yonetici(Calisan):\n",
    "    def zamYap(self,zam):\n",
    "        self.maas+=zam"
   ]
  },
  {
   "cell_type": "code",
   "execution_count": 10,
   "metadata": {},
   "outputs": [
    {
     "name": "stdout",
     "output_type": "stream",
     "text": [
      "Calisan sinifinin init fonksiyonu.\n"
     ]
    }
   ],
   "source": [
    "yonetici=Yonetici(\"Samet\",\"Ozyurek\",5500,\"Pazarlama\")"
   ]
  },
  {
   "cell_type": "code",
   "execution_count": 11,
   "metadata": {},
   "outputs": [],
   "source": [
    "yonetici.zamYap(550)"
   ]
  },
  {
   "cell_type": "code",
   "execution_count": 12,
   "metadata": {},
   "outputs": [
    {
     "name": "stdout",
     "output_type": "stream",
     "text": [
      "\n",
      "        Calisana ait bilgiler : \n",
      "            Isim : Samet\n",
      "            Soyisim : Ozyurek\n",
      "            Maas : 6050\n",
      "            Departman : Pazarlama\n",
      "        \n",
      "        \n"
     ]
    }
   ],
   "source": [
    "yonetici.bilgilerGoster()"
   ]
  },
  {
   "cell_type": "markdown",
   "metadata": {},
   "source": [
    "# Overriding"
   ]
  },
  {
   "cell_type": "code",
   "execution_count": 19,
   "metadata": {},
   "outputs": [],
   "source": [
    "class Calisan():\n",
    "    def __init__(self,isim,soyisim,maas,departman):\n",
    "        print(\"Calisan sinifinin init fonksiyonu.\")\n",
    "        \n",
    "        self.isim=isim\n",
    "        self.soyisim=soyisim\n",
    "        self.maas=maas\n",
    "        self.departman=departman\n",
    "        \n",
    "    def bilgilerGoster(self):\n",
    "        print(\"\"\"\n",
    "        Calisana ait bilgiler : \n",
    "            Isim : {}\n",
    "            Soyisim : {}\n",
    "            Maas : {}\n",
    "            Departman : {}\n",
    "        \n",
    "        \"\"\".format(self.isim,self.soyisim,self.maas,self.departman))\n",
    "        \n",
    "    def departmanDegistir(self,yeniDepartman):\n",
    "        print(\"Departman degistirildi...\")\n",
    "        self.departman=yeniDepartman"
   ]
  },
  {
   "cell_type": "code",
   "execution_count": 22,
   "metadata": {},
   "outputs": [],
   "source": [
    "class Yonetici(Calisan):\n",
    "    def __init__(self,isim,soyisim,maas,departman,kisi_sayisi):\n",
    "        self.isim=isim\n",
    "        self.soyisim=soyisim\n",
    "        self.maas=maas\n",
    "        self.departman=departman\n",
    "        self.kisi_sayisi=kisi_sayisi\n",
    "        \n",
    "    def bilgilerGoster(self):\n",
    "        print(\"\"\"\n",
    "        Calisana ait bilgiler : \n",
    "            Isim : {}\n",
    "            Soyisim : {}\n",
    "            Maas : {}\n",
    "            Departman : {}\n",
    "            Kisi Sayisi : {}\n",
    "        \n",
    "        \"\"\".format(self.isim,self.soyisim,self.maas,self.departman,self.kisi_sayisi))\n",
    "            \n",
    "    def zamYap(self,zam):\n",
    "        self.maas+=zam"
   ]
  },
  {
   "cell_type": "code",
   "execution_count": 23,
   "metadata": {},
   "outputs": [],
   "source": [
    "yonetici=Yonetici(\"Petek\",\"Ozyurek\",6600,\"Muhasebe\",60)"
   ]
  },
  {
   "cell_type": "code",
   "execution_count": 24,
   "metadata": {},
   "outputs": [
    {
     "name": "stdout",
     "output_type": "stream",
     "text": [
      "\n",
      "        Calisana ait bilgiler : \n",
      "            Isim : Petek\n",
      "            Soyisim : Ozyurek\n",
      "            Maas : 6600\n",
      "            Departman : Muhasebe\n",
      "            Kisi Sayisi : 60\n",
      "        \n",
      "        \n"
     ]
    }
   ],
   "source": [
    "yonetici.bilgilerGoster()"
   ]
  },
  {
   "cell_type": "markdown",
   "metadata": {},
   "source": [
    "# super anahtar kelimesi\n"
   ]
  },
  {
   "cell_type": "code",
   "execution_count": 25,
   "metadata": {},
   "outputs": [],
   "source": [
    "class Calisan():\n",
    "    def __init__(self,isim,soyisim,maas,departman):\n",
    "        print(\"Calisan sinifinin init fonksiyonu.\")\n",
    "        \n",
    "        self.isim=isim\n",
    "        self.soyisim=soyisim\n",
    "        self.maas=maas\n",
    "        self.departman=departman\n",
    "        \n",
    "    def bilgilerGoster(self):\n",
    "        print(\"\"\"\n",
    "        Calisana ait bilgiler : \n",
    "            Isim : {}\n",
    "            Soyisim : {}\n",
    "            Maas : {}\n",
    "            Departman : {}\n",
    "        \n",
    "        \"\"\".format(self.isim,self.soyisim,self.maas,self.departman))\n",
    "        \n",
    "    def departmanDegistir(self,yeniDepartman):\n",
    "        print(\"Departman degistirildi...\")\n",
    "        self.departman=yeniDepartman"
   ]
  },
  {
   "cell_type": "code",
   "execution_count": 29,
   "metadata": {},
   "outputs": [],
   "source": [
    "class Yonetici(Calisan):\n",
    "    def __init__(self,isim,soyisim,maas,departman,kisi_sayisi):\n",
    "        \n",
    "        super().__init__(isim,soyisim,maas,departman)\n",
    "        \n",
    "        self.kisi_sayisi=kisi_sayisi\n",
    "        \n",
    "    def bilgilerGoster(self):\n",
    "        print(\"\"\"\n",
    "        Calisana ait bilgiler : \n",
    "            Isim : {}\n",
    "            Soyisim : {}\n",
    "            Maas : {}\n",
    "            Departman : {}\n",
    "            Kisi Sayisi : {}\n",
    "        \n",
    "        \"\"\".format(self.isim,self.soyisim,self.maas,self.departman,self.kisi_sayisi))\n",
    "            \n",
    "    def zamYap(self,zam):\n",
    "        self.maas+=zam"
   ]
  },
  {
   "cell_type": "code",
   "execution_count": 30,
   "metadata": {},
   "outputs": [
    {
     "name": "stdout",
     "output_type": "stream",
     "text": [
      "Calisan sinifinin init fonksiyonu.\n"
     ]
    }
   ],
   "source": [
    "yonetici=Yonetici(\"Petek\",\"Ozyurek\",6600,\"Muhasebe\",60)"
   ]
  },
  {
   "cell_type": "code",
   "execution_count": 31,
   "metadata": {},
   "outputs": [
    {
     "name": "stdout",
     "output_type": "stream",
     "text": [
      "\n",
      "        Calisana ait bilgiler : \n",
      "            Isim : Petek\n",
      "            Soyisim : Ozyurek\n",
      "            Maas : 6600\n",
      "            Departman : Muhasebe\n",
      "            Kisi Sayisi : 60\n",
      "        \n",
      "        \n"
     ]
    }
   ],
   "source": [
    "yonetici.bilgilerGoster()"
   ]
  },
  {
   "cell_type": "code",
   "execution_count": null,
   "metadata": {},
   "outputs": [],
   "source": []
  }
 ],
 "metadata": {
  "kernelspec": {
   "display_name": "Python 3",
   "language": "python",
   "name": "python3"
  },
  "language_info": {
   "codemirror_mode": {
    "name": "ipython",
    "version": 3
   },
   "file_extension": ".py",
   "mimetype": "text/x-python",
   "name": "python",
   "nbconvert_exporter": "python",
   "pygments_lexer": "ipython3",
   "version": "3.7.1"
  }
 },
 "nbformat": 4,
 "nbformat_minor": 2
}
