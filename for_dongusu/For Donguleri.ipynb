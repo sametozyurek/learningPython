{
 "cells": [
  {
   "cell_type": "markdown",
   "metadata": {},
   "source": [
    "for dongusu listelerin, demetlerin, stringlerin ve sozluklerin uzerinde dolasmamizi saglayan bir dongu turudur. \n",
    "\n",
    "    for eleman in veri_yapisi:\n",
    "        yapilacak islemler\n",
    "        \n",
    "Yukarida ki dongu bize sunu soyler : \n",
    "    \n",
    "    eleman degiskeni her dongunun basinda listenin, demetin vs. her elemanina esit olacak ve her dongude bu elemanla islem yapilacak."
   ]
  },
  {
   "cell_type": "code",
   "execution_count": 1,
   "metadata": {},
   "outputs": [
    {
     "name": "stdout",
     "output_type": "stream",
     "text": [
      "1\n",
      "2\n",
      "3\n",
      "4\n",
      "5\n",
      "6\n",
      "7\n",
      "8\n",
      "9\n"
     ]
    }
   ],
   "source": [
    "liste=[1,2,3,4,5,6,7,8,9]\n",
    "for i in liste:\n",
    "    print(i)"
   ]
  },
  {
   "cell_type": "code",
   "execution_count": 2,
   "metadata": {},
   "outputs": [
    {
     "name": "stdout",
     "output_type": "stream",
     "text": [
      "45\n"
     ]
    }
   ],
   "source": [
    "toplam=0\n",
    "for i in liste:\n",
    "    toplam+=i\n",
    "print(toplam)"
   ]
  },
  {
   "cell_type": "markdown",
   "metadata": {},
   "source": [
    "Bir liste icerisinde ki demetleri yazdirmak icin asagidaki ornekteki gibi bir yol izlenebilir."
   ]
  },
  {
   "cell_type": "code",
   "execution_count": 5,
   "metadata": {},
   "outputs": [
    {
     "name": "stdout",
     "output_type": "stream",
     "text": [
      "i : 1 - j : 2\n",
      "i : 3 - j : 4\n",
      "i : 5 - j : 6\n"
     ]
    }
   ],
   "source": [
    "liste1=[(1,2),(3,4),(5,6)]\n",
    "\n",
    "for (i,j) in liste1:\n",
    "    print(\"i : {} - j : {}\".format(i,j))"
   ]
  },
  {
   "cell_type": "code",
   "execution_count": 23,
   "metadata": {},
   "outputs": [
    {
     "name": "stdout",
     "output_type": "stream",
     "text": [
      "12 - 33\t: -21\n",
      "34 - 3\t: 31\n",
      "66 - 36\t: 30\n",
      "67 - 55\t: 12\n"
     ]
    }
   ],
   "source": [
    "liste2=[(12,33),(34,3),(66,36),(67,55)]\n",
    "\n",
    "for (i,j) in liste2:\n",
    "    print(\"{} - {}\\t: {}\".format(i,j,i-j))"
   ]
  },
  {
   "cell_type": "markdown",
   "metadata": {},
   "source": [
    "Sozlukler uzerinde gezinme islemleri icin oncelikle sozluk metotlarini bir tekrar edeyim."
   ]
  },
  {
   "cell_type": "code",
   "execution_count": 24,
   "metadata": {},
   "outputs": [],
   "source": [
    "sozluk={\"bir\":1,\"iki\":2,'uc':3,\"dort\":4}"
   ]
  },
  {
   "cell_type": "code",
   "execution_count": 26,
   "metadata": {},
   "outputs": [
    {
     "data": {
      "text/plain": [
       "dict_values([1, 2, 3, 4])"
      ]
     },
     "execution_count": 26,
     "metadata": {},
     "output_type": "execute_result"
    }
   ],
   "source": [
    "sozluk.values() #sozluklerin icerisinde bulunan degerleri getirir"
   ]
  },
  {
   "cell_type": "code",
   "execution_count": 27,
   "metadata": {},
   "outputs": [
    {
     "data": {
      "text/plain": [
       "dict_items([('bir', 1), ('iki', 2), ('uc', 3), ('dort', 4)])"
      ]
     },
     "execution_count": 27,
     "metadata": {},
     "output_type": "execute_result"
    }
   ],
   "source": [
    "sozluk.items() #sozluk icerisinde ki butun elemanlari yani anahtar ve degerlerini getirir"
   ]
  },
  {
   "cell_type": "code",
   "execution_count": 28,
   "metadata": {},
   "outputs": [
    {
     "data": {
      "text/plain": [
       "dict_keys(['bir', 'iki', 'uc', 'dort'])"
      ]
     },
     "execution_count": 28,
     "metadata": {},
     "output_type": "execute_result"
    }
   ],
   "source": [
    "sozluk.keys() #sozluk icerisinde ki anahtarlari getirir"
   ]
  },
  {
   "cell_type": "code",
   "execution_count": 29,
   "metadata": {},
   "outputs": [
    {
     "name": "stdout",
     "output_type": "stream",
     "text": [
      "bir\n",
      "iki\n",
      "uc\n",
      "dort\n"
     ]
    }
   ],
   "source": [
    "for i in sozluk:\n",
    "    print(i)\n",
    "\n",
    "#Burada sadece sozluk icerisinde ki anahtarlar uzerinde islem yapabiliriz."
   ]
  },
  {
   "cell_type": "code",
   "execution_count": 30,
   "metadata": {},
   "outputs": [
    {
     "name": "stdout",
     "output_type": "stream",
     "text": [
      "bir\n",
      "iki\n",
      "uc\n",
      "dort\n"
     ]
    }
   ],
   "source": [
    "for i in sozluk.keys(): \n",
    "    print(i)\n",
    "\n",
    "#Burada sozluk icerisinde ki anahtarlarla islem yapabilmek icin .keys metodunu kullandim"
   ]
  },
  {
   "cell_type": "code",
   "execution_count": 31,
   "metadata": {},
   "outputs": [
    {
     "name": "stdout",
     "output_type": "stream",
     "text": [
      "1\n",
      "2\n",
      "3\n",
      "4\n"
     ]
    }
   ],
   "source": [
    "for i in sozluk.values():\n",
    "    print(i)\n",
    "\n",
    "#Burada sozluk icerisinde ki degerler ile islem yapabilmek icin .values metodunu kullandim \n",
    "#eger sozluk icerisinde ki butun elemanlarla islem yapmak isteseydim .items metodunu kullanmam gerekecekti"
   ]
  },
  {
   "cell_type": "code",
   "execution_count": null,
   "metadata": {},
   "outputs": [],
   "source": []
  }
 ],
 "metadata": {
  "kernelspec": {
   "display_name": "Python 3",
   "language": "python",
   "name": "python3"
  },
  "language_info": {
   "codemirror_mode": {
    "name": "ipython",
    "version": 3
   },
   "file_extension": ".py",
   "mimetype": "text/x-python",
   "name": "python",
   "nbconvert_exporter": "python",
   "pygments_lexer": "ipython3",
   "version": "3.7.1"
  }
 },
 "nbformat": 4,
 "nbformat_minor": 2
}
