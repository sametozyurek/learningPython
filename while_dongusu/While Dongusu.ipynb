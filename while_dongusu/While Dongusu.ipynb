{
 "cells": [
  {
   "cell_type": "markdown",
   "metadata": {},
   "source": [
    "while dongulerinde iceride ki kosul saglandigi surece altta ki islemler calismaya devam edecektir."
   ]
  },
  {
   "cell_type": "code",
   "execution_count": 1,
   "metadata": {},
   "outputs": [
    {
     "name": "stdout",
     "output_type": "stream",
     "text": [
      "i'nin degeri :  1\n",
      "i'nin degeri :  2\n",
      "i'nin degeri :  3\n",
      "i'nin degeri :  4\n",
      "i'nin degeri :  5\n",
      "i'nin degeri :  6\n",
      "i'nin degeri :  7\n",
      "i'nin degeri :  8\n",
      "i'nin degeri :  9\n"
     ]
    }
   ],
   "source": [
    "i=1\n",
    "\n",
    "while (i<10):\n",
    "    print(\"i'nin degeri : \",i)\n",
    "    i+=1"
   ]
  },
  {
   "cell_type": "code",
   "execution_count": null,
   "metadata": {},
   "outputs": [],
   "source": []
  }
 ],
 "metadata": {
  "kernelspec": {
   "display_name": "Python 3",
   "language": "python",
   "name": "python3"
  },
  "language_info": {
   "codemirror_mode": {
    "name": "ipython",
    "version": 3
   },
   "file_extension": ".py",
   "mimetype": "text/x-python",
   "name": "python",
   "nbconvert_exporter": "python",
   "pygments_lexer": "ipython3",
   "version": "3.7.1"
  }
 },
 "nbformat": 4,
 "nbformat_minor": 2
}
