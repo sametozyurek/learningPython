{
 "cells": [
  {
   "cell_type": "markdown",
   "metadata": {},
   "source": [
    "# Dosyalari otomatik kapatma"
   ]
  },
  {
   "cell_type": "markdown",
   "metadata": {},
   "source": [
    "    with open(dosya_adi,dosya_kipi) as file:\n",
    "        dosya islemleri\n",
    "        \n",
    "Dosyada yapilacak islemleri bu blok icerisinde yaptigimizda manuel olarak dosyayi kapatma islemini gerceklestirmemize\n",
    "gerek kalmayacak. Otomatik olarak dosya islemlerden sonra kendisini kapatacak."
   ]
  },
  {
   "cell_type": "code",
   "execution_count": 8,
   "metadata": {},
   "outputs": [],
   "source": [
    "with  open(\"bilgiler.txt\",\"w\") as file:\n",
    "    file.write(\"samet ozyurek veri bilimci olmak istiyor...\")   "
   ]
  },
  {
   "cell_type": "code",
   "execution_count": 9,
   "metadata": {},
   "outputs": [
    {
     "name": "stdout",
     "output_type": "stream",
     "text": [
      "samet ozyurek veri bilimci olmak istiyor...\n"
     ]
    }
   ],
   "source": [
    "with open(\"bilgiler.txt\",\"r\") as file:\n",
    "    print(file.read())"
   ]
  },
  {
   "cell_type": "markdown",
   "metadata": {},
   "source": [
    "# Dosyalari ileri geri sarmak"
   ]
  },
  {
   "cell_type": "markdown",
   "metadata": {},
   "source": [
    "Dosyalari okurken sadece dosyanin en basindan baslayabiliyorduk ve dosya imlecimiz okuma osleminin sonunda dosyanin en sonuna \n",
    "gidiyordu. Ancak biz cogu zaman dosya imlecini dosyanin herhangi bir yerine goturmek isteyebiliriz. Bunun icin 'seek()' \n",
    "fonksiyonunu kullanacagiz. Ancak ondan once dosya imlecinin hangi byteda oldugunu soyleyen 'tell()' fonksiyonuna bakalim."
   ]
  },
  {
   "cell_type": "code",
   "execution_count": 4,
   "metadata": {},
   "outputs": [
    {
     "name": "stdout",
     "output_type": "stream",
     "text": [
      "0\n"
     ]
    }
   ],
   "source": [
    "with open(\"bilgiler.txt\",\"r\") as file:\n",
    "    print(file.tell())"
   ]
  },
  {
   "cell_type": "code",
   "execution_count": 5,
   "metadata": {},
   "outputs": [
    {
     "name": "stdout",
     "output_type": "stream",
     "text": [
      "0\n",
      "20\n",
      "Dosya imlecinin bulundugu byte : \n",
      "20\n"
     ]
    }
   ],
   "source": [
    "with open(\"bilgiler.txt\",\"r\") as file:\n",
    "    print(file.tell())\n",
    "    print(file.seek(20))\n",
    "    print(\"Dosya imlecinin bulundugu byte : \")\n",
    "    print(file.tell())"
   ]
  },
  {
   "cell_type": "code",
   "execution_count": 12,
   "metadata": {},
   "outputs": [
    {
     "name": "stdout",
     "output_type": "stream",
     "text": [
      "15\n",
      " ozyurek v\n"
     ]
    }
   ],
   "source": [
    "with open(\"bilgiler.txt\",\"r\") as file:\n",
    "    file.seek(5)\n",
    "    icerik = file.read(10)\n",
    "    print(file.tell())\n",
    "    print(icerik)"
   ]
  },
  {
   "cell_type": "code",
   "execution_count": 13,
   "metadata": {},
   "outputs": [
    {
     "name": "stdout",
     "output_type": "stream",
     "text": [
      "ozyurek veri\n",
      "samet\n"
     ]
    }
   ],
   "source": [
    "with open(\"bilgiler.txt\",\"r\") as file:\n",
    "    file.seek(6)\n",
    "    icerik = file.read(12)\n",
    "    \n",
    "    file.seek(0)\n",
    "    icerik2 = file.read(5)\n",
    "    \n",
    "    print(icerik)\n",
    "    print(icerik2)"
   ]
  },
  {
   "cell_type": "code",
   "execution_count": null,
   "metadata": {},
   "outputs": [],
   "source": []
  }
 ],
 "metadata": {
  "kernelspec": {
   "display_name": "Python 3",
   "language": "python",
   "name": "python3"
  },
  "language_info": {
   "codemirror_mode": {
    "name": "ipython",
    "version": 3
   },
   "file_extension": ".py",
   "mimetype": "text/x-python",
   "name": "python",
   "nbconvert_exporter": "python",
   "pygments_lexer": "ipython3",
   "version": "3.7.1"
  }
 },
 "nbformat": 4,
 "nbformat_minor": 2
}
