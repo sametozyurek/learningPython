{
 "cells": [
  {
   "cell_type": "markdown",
   "metadata": {},
   "source": [
    "# Hata Yakalama"
   ]
  },
  {
   "cell_type": "markdown",
   "metadata": {},
   "source": [
    "try - except bloklari\n",
    "\n",
    "    try : \n",
    "        Hata cikabilecek kodlar buraya yazilir.\n",
    "        Hata olusursa try blogunun geri kalanindaki islemler calismayacak\n",
    "    except Hata1: \n",
    "        hata1 olustugunda burasi calisacak\n",
    "    except Hata2:\n",
    "        hata2 olustugunda burasi calisacak"
   ]
  },
  {
   "cell_type": "code",
   "execution_count": 1,
   "metadata": {},
   "outputs": [
    {
     "ename": "ValueError",
     "evalue": "invalid literal for int() with base 10: 'sametozyurek'",
     "output_type": "error",
     "traceback": [
      "\u001b[1;31m---------------------------------------------------------------------------\u001b[0m",
      "\u001b[1;31mValueError\u001b[0m                                Traceback (most recent call last)",
      "\u001b[1;32m<ipython-input-1-86199795a0e8>\u001b[0m in \u001b[0;36m<module>\u001b[1;34m\u001b[0m\n\u001b[1;32m----> 1\u001b[1;33m \u001b[0ma\u001b[0m\u001b[1;33m=\u001b[0m\u001b[0mint\u001b[0m\u001b[1;33m(\u001b[0m\u001b[1;34m\"sametozyurek\"\u001b[0m\u001b[1;33m)\u001b[0m\u001b[1;33m\u001b[0m\u001b[1;33m\u001b[0m\u001b[0m\n\u001b[0m",
      "\u001b[1;31mValueError\u001b[0m: invalid literal for int() with base 10: 'sametozyurek'"
     ]
    }
   ],
   "source": [
    "a=int(\"sametozyurek\")"
   ]
  },
  {
   "cell_type": "code",
   "execution_count": 2,
   "metadata": {},
   "outputs": [
    {
     "name": "stdout",
     "output_type": "stream",
     "text": [
      "hatali girdi.\n",
      "bloklar sona erdi\n"
     ]
    }
   ],
   "source": [
    "try:\n",
    "    a=int(\"sametozyurek\")\n",
    "    print(\"program burada\")\n",
    "except:\n",
    "    print(\"hatali girdi.\")\n",
    "print(\"bloklar sona erdi\")"
   ]
  },
  {
   "cell_type": "code",
   "execution_count": 3,
   "metadata": {},
   "outputs": [
    {
     "name": "stdout",
     "output_type": "stream",
     "text": [
      "program burada\n",
      "bloklar sona erdi\n"
     ]
    }
   ],
   "source": [
    "try:\n",
    "    a=int(\"38\")\n",
    "    print(\"program burada\")\n",
    "except:\n",
    "    print(\"hatali girdi.\")\n",
    "print(\"bloklar sona erdi\")"
   ]
  },
  {
   "cell_type": "code",
   "execution_count": 4,
   "metadata": {},
   "outputs": [
    {
     "name": "stdout",
     "output_type": "stream",
     "text": [
      "hatali girdi.\n",
      "bloklar sona erdi\n"
     ]
    }
   ],
   "source": [
    "try:\n",
    "    a=int(\"sametozyurek\")\n",
    "    print(\"program burada\")\n",
    "except ValueError:\n",
    "    print(\"hatali girdi.\")\n",
    "print(\"bloklar sona erdi\")"
   ]
  },
  {
   "cell_type": "code",
   "execution_count": 6,
   "metadata": {},
   "outputs": [
    {
     "ename": "ValueError",
     "evalue": "invalid literal for int() with base 10: 'sametozyurek123'",
     "output_type": "error",
     "traceback": [
      "\u001b[1;31m---------------------------------------------------------------------------\u001b[0m",
      "\u001b[1;31mValueError\u001b[0m                                Traceback (most recent call last)",
      "\u001b[1;32m<ipython-input-6-242db23d93b7>\u001b[0m in \u001b[0;36m<module>\u001b[1;34m\u001b[0m\n\u001b[1;32m----> 1\u001b[1;33m \u001b[0ma\u001b[0m\u001b[1;33m=\u001b[0m\u001b[0mint\u001b[0m\u001b[1;33m(\u001b[0m\u001b[1;34m\"sametozyurek123\"\u001b[0m\u001b[1;33m)\u001b[0m\u001b[1;33m\u001b[0m\u001b[1;33m\u001b[0m\u001b[0m\n\u001b[0m",
      "\u001b[1;31mValueError\u001b[0m: invalid literal for int() with base 10: 'sametozyurek123'"
     ]
    }
   ],
   "source": [
    "a=int(\"sametozyurek123\")"
   ]
  },
  {
   "cell_type": "code",
   "execution_count": 7,
   "metadata": {},
   "outputs": [
    {
     "ename": "ZeroDivisionError",
     "evalue": "division by zero",
     "output_type": "error",
     "traceback": [
      "\u001b[1;31m---------------------------------------------------------------------------\u001b[0m",
      "\u001b[1;31mZeroDivisionError\u001b[0m                         Traceback (most recent call last)",
      "\u001b[1;32m<ipython-input-7-d2c0889640ff>\u001b[0m in \u001b[0;36m<module>\u001b[1;34m\u001b[0m\n\u001b[1;32m----> 1\u001b[1;33m \u001b[0mprint\u001b[0m\u001b[1;33m(\u001b[0m\u001b[1;36m2\u001b[0m\u001b[1;33m/\u001b[0m\u001b[1;36m0\u001b[0m\u001b[1;33m)\u001b[0m\u001b[1;33m\u001b[0m\u001b[1;33m\u001b[0m\u001b[0m\n\u001b[0m",
      "\u001b[1;31mZeroDivisionError\u001b[0m: division by zero"
     ]
    }
   ],
   "source": [
    "print(2/0)"
   ]
  },
  {
   "cell_type": "code",
   "execution_count": 2,
   "metadata": {},
   "outputs": [
    {
     "name": "stdout",
     "output_type": "stream",
     "text": [
      "Sayi 1 : 12\n",
      "Sayi 2 : 0\n",
      "Sifirdan farkli bir sayi girmeniz gerek!\n",
      "bloklar sona erdi\n"
     ]
    }
   ],
   "source": [
    "try:\n",
    "    a=int(input(\"Sayi 1 : \"))\n",
    "    b=int(input(\"Sayi 2 : \"))\n",
    "    print(a/b)\n",
    "except ZeroDivisionError:\n",
    "    print(\"Sifirdan farkli bir sayi girmeniz gerek!\")\n",
    "except ValueError:\n",
    "    print(\"Lutfen bir sayi girin\")\n",
    "print(\"bloklar sona erdi\")"
   ]
  },
  {
   "cell_type": "code",
   "execution_count": 1,
   "metadata": {},
   "outputs": [
    {
     "name": "stdout",
     "output_type": "stream",
     "text": [
      "Sayi 1 : 12\n",
      "Sayi 2 : 0\n",
      "ZeroDivisionError ve ValueError hatasi!\n"
     ]
    }
   ],
   "source": [
    "try:\n",
    "    a=int(input(\"Sayi 1 : \"))\n",
    "    b=int(input(\"Sayi 2 : \"))\n",
    "    print(a/b)\n",
    "except (ZeroDivisionError,ValueError):\n",
    "    print(\"ZeroDivisionError ve ValueError hatasi!\")"
   ]
  },
  {
   "cell_type": "code",
   "execution_count": null,
   "metadata": {},
   "outputs": [],
   "source": []
  }
 ],
 "metadata": {
  "kernelspec": {
   "display_name": "Python 3",
   "language": "python",
   "name": "python3"
  },
  "language_info": {
   "codemirror_mode": {
    "name": "ipython",
    "version": 3
   },
   "file_extension": ".py",
   "mimetype": "text/x-python",
   "name": "python",
   "nbconvert_exporter": "python",
   "pygments_lexer": "ipython3",
   "version": "3.7.1"
  }
 },
 "nbformat": 4,
 "nbformat_minor": 2
}
