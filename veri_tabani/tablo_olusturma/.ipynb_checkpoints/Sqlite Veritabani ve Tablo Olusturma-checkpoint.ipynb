{
 "cells": [
  {
   "cell_type": "markdown",
   "metadata": {},
   "source": [
    "# Sqlite Veritabani ve Tablo Olusturma"
   ]
  },
  {
   "cell_type": "markdown",
   "metadata": {},
   "source": [
    "    import sqlite3 ----------- ile Sqlite'i dahil ediyoruz.\n",
    "    \n",
    "    con = sqlite3.connect(\"kutuphane.db\") -------------- tablo baglantisi\n",
    "    \n",
    "    cursor = con.cursor() ----------- cursor isimli degiskenle veritabani uzerinde islem yapmak icin kullanilacak imlec olacak.\n",
    "    \n",
    "    con.close() ----------------------- baglantiyi kapatiyoruz."
   ]
  },
  {
   "cell_type": "code",
   "execution_count": null,
   "metadata": {},
   "outputs": [],
   "source": []
  }
 ],
 "metadata": {
  "kernelspec": {
   "display_name": "Python 3",
   "language": "python",
   "name": "python3"
  },
  "language_info": {
   "codemirror_mode": {
    "name": "ipython",
    "version": 3
   },
   "file_extension": ".py",
   "mimetype": "text/x-python",
   "name": "python",
   "nbconvert_exporter": "python",
   "pygments_lexer": "ipython3",
   "version": "3.7.1"
  }
 },
 "nbformat": 4,
 "nbformat_minor": 2
}
