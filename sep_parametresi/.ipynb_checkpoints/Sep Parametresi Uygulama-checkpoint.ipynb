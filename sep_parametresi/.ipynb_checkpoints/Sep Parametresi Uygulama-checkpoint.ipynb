{
 "cells": [
  {
   "cell_type": "markdown",
   "metadata": {},
   "source": [
    "#   'sep' parametresi"
   ]
  },
  {
   "cell_type": "markdown",
   "metadata": {},
   "source": [
    "sep parametresi print ile genellikle sayi yazdirilirken kullanılıyor. Amaci sayilar arasina otomatik olarak gelen bosluk yerine\n",
    "farkli bir str deger veya farkli bir parametre(mesela \\n ya da \\t gibi) ile gerceklestirebiliyoruz."
   ]
  },
  {
   "cell_type": "code",
   "execution_count": 1,
   "metadata": {},
   "outputs": [
    {
     "name": "stdout",
     "output_type": "stream",
     "text": [
      "23 38 61 66\n"
     ]
    }
   ],
   "source": [
    "print(23,38,61,66)"
   ]
  },
  {
   "cell_type": "code",
   "execution_count": 2,
   "metadata": {},
   "outputs": [
    {
     "name": "stdout",
     "output_type": "stream",
     "text": [
      "23-38-61-66\n"
     ]
    }
   ],
   "source": [
    "print(23,38,61,66,sep = \"-\")"
   ]
  },
  {
   "cell_type": "code",
   "execution_count": 3,
   "metadata": {},
   "outputs": [
    {
     "name": "stdout",
     "output_type": "stream",
     "text": [
      "23\n",
      "38\n",
      "61\n",
      "66\n"
     ]
    }
   ],
   "source": [
    "print(23,38,61,66,sep = \"\\n\")"
   ]
  },
  {
   "cell_type": "markdown",
   "metadata": {},
   "source": [
    "#    '*' parametresi"
   ]
  },
  {
   "cell_type": "markdown",
   "metadata": {},
   "source": [
    "print parametresinin icerisine yazilan degerin basina '*' konursa yazilan deger arasinda otomatik olarak bosluk birakilir."
   ]
  },
  {
   "cell_type": "code",
   "execution_count": 4,
   "metadata": {},
   "outputs": [
    {
     "name": "stdout",
     "output_type": "stream",
     "text": [
      "S a m e t\n"
     ]
    }
   ],
   "source": [
    "print(*\"Samet\")"
   ]
  },
  {
   "cell_type": "code",
   "execution_count": 5,
   "metadata": {},
   "outputs": [
    {
     "name": "stdout",
     "output_type": "stream",
     "text": [
      "S?a?m?e?t\n"
     ]
    }
   ],
   "source": [
    "print(*\"Samet\",sep = \"?\")"
   ]
  },
  {
   "cell_type": "markdown",
   "metadata": {},
   "source": [
    "#    'format' parametresi"
   ]
  },
  {
   "cell_type": "markdown",
   "metadata": {},
   "source": [
    "format parametresi daha onceden kullandigimiz bir degiskeni tekrar print ile yazdirmak icin kullanilir."
   ]
  },
  {
   "cell_type": "code",
   "execution_count": 7,
   "metadata": {},
   "outputs": [
    {
     "data": {
      "text/plain": [
       "'(4 5)'"
      ]
     },
     "execution_count": 7,
     "metadata": {},
     "output_type": "execute_result"
    }
   ],
   "source": [
    "a=4\n",
    "b=5\n",
    "\"({} {})\".format(a,b)"
   ]
  },
  {
   "cell_type": "code",
   "execution_count": 8,
   "metadata": {},
   "outputs": [
    {
     "data": {
      "text/plain": [
       "'6 ile 9 degerinin toplami = 15'"
      ]
     },
     "execution_count": 8,
     "metadata": {},
     "output_type": "execute_result"
    }
   ],
   "source": [
    "c=6\n",
    "d=9\n",
    "\"{} ile {} degerinin toplami = {}\".format(c,d,c+d)"
   ]
  },
  {
   "cell_type": "code",
   "execution_count": 10,
   "metadata": {},
   "outputs": [
    {
     "data": {
      "text/plain": [
       "'38 Samet 61'"
      ]
     },
     "execution_count": 10,
     "metadata": {},
     "output_type": "execute_result"
    }
   ],
   "source": [
    "\"{1} {0} {2}\".format(\"Samet\",38,61)"
   ]
  },
  {
   "cell_type": "markdown",
   "metadata": {},
   "source": [
    "Simdi sayimiz bir float deger ise ve biz bu sayinin noktadan sonra sadece 2 degerini veya 3 degerini almak istersek ==>"
   ]
  },
  {
   "cell_type": "code",
   "execution_count": 12,
   "metadata": {},
   "outputs": [
    {
     "data": {
      "text/plain": [
       "'2.35 6.544 15.7'"
      ]
     },
     "execution_count": 12,
     "metadata": {},
     "output_type": "execute_result"
    }
   ],
   "source": [
    "\"{:.2f} {:.3f} {:.1f}\".format(2.3456,6.543785,15.6794246)"
   ]
  },
  {
   "cell_type": "markdown",
   "metadata": {},
   "source": [
    "format fonksiyonu ile ilgili bir cok kullanim mevcut bu kullanimlara ise ==> https://pyformat.info/ sitesinden bakabilrisin"
   ]
  },
  {
   "cell_type": "code",
   "execution_count": null,
   "metadata": {},
   "outputs": [],
   "source": []
  }
 ],
 "metadata": {
  "kernelspec": {
   "display_name": "Python 3",
   "language": "python",
   "name": "python3"
  },
  "language_info": {
   "codemirror_mode": {
    "name": "ipython",
    "version": 3
   },
   "file_extension": ".py",
   "mimetype": "text/x-python",
   "name": "python",
   "nbconvert_exporter": "python",
   "pygments_lexer": "ipython3",
   "version": "3.7.1"
  }
 },
 "nbformat": 4,
 "nbformat_minor": 2
}
